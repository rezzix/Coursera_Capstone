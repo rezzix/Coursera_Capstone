{
  "nbformat": 4,
  "nbformat_minor": 0,
  "metadata": {
    "colab": {
      "name": "capstone_project.ipynb",
      "provenance": []
    },
    "kernelspec": {
      "name": "python3",
      "display_name": "Python 3"
    }
  },
  "cells": [
    {
      "cell_type": "markdown",
      "metadata": {
        "id": "GnOO4tY35PUR",
        "colab_type": "text"
      },
      "source": [
        "# Coursera Capstone project\n",
        "\n",
        "This project is aimed to complete the skills acquired through the IBM data science professional certification\n",
        "\n",
        "## Usage of github and markdown\n",
        "\n",
        "first I'll be using using some **markdown** to explain the goal of the project and then go through the following steps :\n",
        "* Use Foursqure API\n",
        "* Apply segmentation based on neighbourhood data\n",
        "* Evaluate différent options based on models\n",
        "\n",
        "for now we will start by simple steps\n",
        "```python\n",
        "import pandas as pd\n",
        "import numpy as np\n",
        "\n",
        "print('Hello Capstone Project Course!')\n",
        "```\n",
        "\n",
        "Here is a link to this [repository](https://github.com/rezzix/Coursera_Capstone)"
      ]
    },
    {
      "cell_type": "code",
      "metadata": {
        "id": "7U2Pah-T5OJv",
        "colab_type": "code",
        "colab": {
          "base_uri": "https://localhost:8080/",
          "height": 34
        },
        "outputId": "8de5178c-f153-4a2f-eefb-ec6d9939df10"
      },
      "source": [
        "import pandas as pd\n",
        "import numpy as np\n",
        "\n",
        "print('Hello Capstone Project Course!')"
      ],
      "execution_count": 6,
      "outputs": [
        {
          "output_type": "stream",
          "text": [
            "Hello Capstone Project Course!\n"
          ],
          "name": "stdout"
        }
      ]
    }
  ]
}